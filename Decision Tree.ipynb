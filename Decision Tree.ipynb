{
 "cells": [
  {
   "cell_type": "markdown",
   "metadata": {},
   "source": [
    "# Mini-project: Decision trees"
   ]
  },
  {
   "cell_type": "markdown",
   "metadata": {
    "jp-MarkdownHeadingCollapsed": true
   },
   "source": [
    "## <u>Preprocessing</u>"
   ]
  },
  {
   "cell_type": "code",
   "execution_count": null,
   "metadata": {},
   "outputs": [],
   "source": [
    "# before executing:\n",
    "# pip install ucimlrepo"
   ]
  },
  {
   "cell_type": "code",
   "execution_count": 12,
   "metadata": {},
   "outputs": [],
   "source": [
    "import numpy as np\n",
    "from ucimlrepo import fetch_ucirepo\n",
    "from sklearn.preprocessing import OneHotEncoder, StandardScaler\n",
    "from sklearn.model_selection import train_test_split\n",
    "from sklearn.tree import DecisionTreeClassifier\n",
    "from sklearn.metrics import accuracy_score, f1_score, confusion_matrix"
   ]
  },
  {
   "cell_type": "markdown",
   "metadata": {},
   "source": [
    "This algorithm has been implemented using the library sklearn.tree"
   ]
  },
  {
   "cell_type": "code",
   "execution_count": 2,
   "metadata": {},
   "outputs": [],
   "source": [
    "dataset_ids =   {\n",
    "                \"parkinsons\": 174,\n",
    "                \"page-blocks\": 78,\n",
    "                \"optical\": 80,\n",
    "                \"musk2\": 75,\n",
    "                \"bc-wisc-diag\": 17,\n",
    "                \"students\": 697,\n",
    "                \"wine\": 109,\n",
    "                \"magic\": 159,\n",
    "                \"balance-scale\": 12,\n",
    "                \"glass\": 42,\n",
    "                \"zoo\": 111,\n",
    "                \"waveform\": 107,\n",
    "                \"image-segmentation\": 50,\n",
    "                \"blood\": 176,\n",
    "                \"spect\": 95,\n",
    "                \"yeast\": 110,\n",
    "                \"monk\": 70,\n",
    "                \"ecoli\": 39,\n",
    "                \"iris\": 53,\n",
    "                \"contraception\": 30,\n",
    "                \"fertility\": 244,\n",
    "                \"conn-bench-sonar\":  151,\n",
    "                \"landsat\": 146,\n",
    "                \"ionosphere\": 52,\n",
    "                \"letter\": 59,\n",
    "                }"
   ]
  },
  {
   "cell_type": "code",
   "execution_count": 3,
   "metadata": {},
   "outputs": [],
   "source": [
    "def load_dataset(id):  \n",
    "    # fetch dataset \n",
    "    dataset = fetch_ucirepo(id=id) \n",
    "    \n",
    "    # data (as pandas dataframes) \n",
    "    X = dataset.data.features \n",
    "    y =dataset.data.targets \n",
    "    \n",
    "    # dictionary gthering infos about the metadata (url, abstract, ... etc.)\n",
    "    metadata_infos_dict = dataset.metadata\n",
    "    print('data url:\\n', metadata_infos_dict['data_url'])\n",
    "    \n",
    "    # variable information\n",
    "    var_infos = dataset.variables.to_numpy()\n",
    "    \n",
    "    data_vectors = X.to_numpy() #instance vectors with features\n",
    "    features_names = X.columns.to_numpy() #getting the names of each feature\n",
    "    \n",
    "    data_labels = y.to_numpy() #output labels for each instance\n",
    "    label_name = y.columns.to_numpy() # name of the output label\n",
    "    \n",
    "    return data_vectors, features_names, data_labels, label_name"
   ]
  },
  {
   "cell_type": "code",
   "execution_count": 4,
   "metadata": {},
   "outputs": [],
   "source": [
    "def print_useful_data(X, X_names, y, y_name, index = 0):\n",
    "    n_instances = len(X)\n",
    "    n_features = len(X_names)\n",
    "    \n",
    "    print(\"number of instances: \", n_instances)\n",
    "    print(\"number of features: \", n_features)\n",
    "\n",
    "    print(\"names of the features:\\n\", X_names)\n",
    "    print(\"name of the output label: \", y_name)\n",
    "\n",
    "    print(f\"instance {index} feature vector:\\n\", X[index])\n",
    "    print(f\"instance {index} output label: \", y[index])"
   ]
  },
  {
   "cell_type": "code",
   "execution_count": 5,
   "metadata": {},
   "outputs": [],
   "source": [
    "def preprocessing(X, y, split=0.7):\n",
    "    scaler = StandardScaler()\n",
    "    try:\n",
    "        #standardization\n",
    "        X = scaler.fit_transform(X)\n",
    "    except ValueError:\n",
    "        #If non numerical data is detected, data is encoded\n",
    "        X = np.array(X, dtype=object)\n",
    "        encoder = OneHotEncoder()\n",
    "        X_encoded = encoder.fit_transform(X).toarray()\n",
    "        X = scaler.fit_transform(X_encoded)\n",
    "    \n",
    "    #data is split among training and testing sets\n",
    "    return train_test_split(X, y, train_size=split, random_state=42)"
   ]
  },
  {
   "cell_type": "markdown",
   "metadata": {
    "jp-MarkdownHeadingCollapsed": true
   },
   "source": [
    "## <u>Accuracy, F1 and confusion matrice</u>"
   ]
  },
  {
   "cell_type": "code",
   "execution_count": 10,
   "metadata": {},
   "outputs": [],
   "source": [
    "def calculate_metrics(true_labels, predicted_labels):\n",
    "    \n",
    "    accuracy = accuracy_score(true_labels, predicted_labels)\n",
    "    f1 = f1_score(true_labels, predicted_labels, average='weighted')\n",
    "    cm = confusion_matrix(Y_test, Y_pred)\n",
    "    \n",
    "    return accuracy, f1, cm"
   ]
  },
  {
   "cell_type": "markdown",
   "metadata": {},
   "source": [
    "## <u>Results on 25 datasets</u>"
   ]
  },
  {
   "cell_type": "markdown",
   "metadata": {},
   "source": [
    "### Predict Students' Dropout and Academic Success"
   ]
  },
  {
   "cell_type": "code",
   "execution_count": 8,
   "metadata": {},
   "outputs": [
    {
     "name": "stdout",
     "output_type": "stream",
     "text": [
      "data url:\n",
      " https://archive.ics.uci.edu/static/public/697/data.csv\n",
      "training set size: (3096, 36)\n",
      "testing set size: (1328, 36)\n"
     ]
    }
   ],
   "source": [
    "X, X_names, y, y_name = load_dataset(id = dataset_ids[\"students\"])\n",
    "split_size = 0.7\n",
    "X_train, X_test, Y_train, Y_test = preprocessing(X, y, split=split_size)\n",
    "print(f'training set size: {X_train.shape}')\n",
    "print(f'testing set size: {X_test.shape}')"
   ]
  },
  {
   "cell_type": "code",
   "execution_count": null,
   "metadata": {},
   "outputs": [],
   "source": [
    "print_useful_data(X, X_names, y, y_name)"
   ]
  },
  {
   "cell_type": "code",
   "execution_count": 13,
   "metadata": {},
   "outputs": [
    {
     "name": "stdout",
     "output_type": "stream",
     "text": [
      "accuracy: 73.57%\n",
      "F1 score: 0.72\n",
      "confusion matrix:\n",
      "[[300  50  91]\n",
      " [ 38  76 131]\n",
      " [ 19  22 601]]\n"
     ]
    }
   ],
   "source": [
    "#model training\n",
    "model = DecisionTreeClassifier(max_depth=5, criterion=\"gini\", random_state=42)\n",
    "model.fit(X_train, Y_train)\n",
    "\n",
    "#labels prediction\n",
    "Y_pred = model.predict(X_test)\n",
    "\n",
    "accuracy, f1, cm = calculate_metrics(Y_test, Y_pred)\n",
    "print(f\"accuracy: {accuracy * 100:.2f}%\")\n",
    "print(f\"F1 score: {f1:.2f}\")\n",
    "print(f\"confusion matrix:\\n{cm}\")"
   ]
  },
  {
   "cell_type": "markdown",
   "metadata": {
    "jp-MarkdownHeadingCollapsed": true
   },
   "source": [
    "### Wine"
   ]
  },
  {
   "cell_type": "code",
   "execution_count": 14,
   "metadata": {},
   "outputs": [
    {
     "name": "stdout",
     "output_type": "stream",
     "text": [
      "data url:\n",
      " https://archive.ics.uci.edu/static/public/109/data.csv\n",
      "training set size: (124, 13)\n",
      "testing set size: (54, 13)\n"
     ]
    }
   ],
   "source": [
    "X, X_names, y, y_name = load_dataset(id = dataset_ids[\"wine\"])\n",
    "split_size = 0.7\n",
    "X_train, X_test, Y_train, Y_test = preprocessing(X, y, split_size)\n",
    "print(f'training set size: {X_train.shape}')\n",
    "print(f'testing set size: {X_test.shape}')"
   ]
  },
  {
   "cell_type": "code",
   "execution_count": null,
   "metadata": {},
   "outputs": [],
   "source": [
    "print_useful_data(X, X_names, y, y_name)"
   ]
  },
  {
   "cell_type": "code",
   "execution_count": 15,
   "metadata": {},
   "outputs": [
    {
     "name": "stdout",
     "output_type": "stream",
     "text": [
      "accuracy: 96.30%\n",
      "F1 score: 0.96\n",
      "confusion matrix:\n",
      "[[18  1  0]\n",
      " [ 0 21  0]\n",
      " [ 1  0 13]]\n"
     ]
    }
   ],
   "source": [
    "#model training\n",
    "model = DecisionTreeClassifier(max_depth=5, criterion=\"gini\", random_state=42)\n",
    "model.fit(X_train, Y_train)\n",
    "\n",
    "#labels prediction\n",
    "Y_pred = model.predict(X_test)\n",
    "\n",
    "accuracy, f1, cm = calculate_metrics(Y_test, Y_pred)\n",
    "print(f\"accuracy: {accuracy * 100:.2f}%\")\n",
    "print(f\"F1 score: {f1:.2f}\")\n",
    "print(f\"confusion matrix:\\n{cm}\")"
   ]
  },
  {
   "cell_type": "markdown",
   "metadata": {
    "jp-MarkdownHeadingCollapsed": true
   },
   "source": [
    "### MAGIC gamma telescope"
   ]
  },
  {
   "cell_type": "code",
   "execution_count": 17,
   "metadata": {},
   "outputs": [
    {
     "name": "stdout",
     "output_type": "stream",
     "text": [
      "data url:\n",
      " https://archive.ics.uci.edu/static/public/159/data.csv\n",
      "training set size: (13314, 10)\n",
      "testing set size: (5706, 10)\n"
     ]
    }
   ],
   "source": [
    "X, X_names, y, y_name = load_dataset(id = dataset_ids[\"magic\"])\n",
    "split_size = 0.7\n",
    "X_train, X_test, Y_train, Y_test = preprocessing(X, y, split_size)\n",
    "print(f'training set size: {X_train.shape}')\n",
    "print(f'testing set size: {X_test.shape}')"
   ]
  },
  {
   "cell_type": "code",
   "execution_count": null,
   "metadata": {},
   "outputs": [],
   "source": [
    "print_useful_data(X, X_names, y, y_name)"
   ]
  },
  {
   "cell_type": "code",
   "execution_count": 18,
   "metadata": {},
   "outputs": [
    {
     "name": "stdout",
     "output_type": "stream",
     "text": [
      "accuracy: 83.25%\n",
      "F1 score: 0.83\n",
      "confusion matrix:\n",
      "[[3429  276]\n",
      " [ 680 1321]]\n"
     ]
    }
   ],
   "source": [
    "#model training\n",
    "model = DecisionTreeClassifier(max_depth=5, criterion=\"gini\", random_state=42)\n",
    "model.fit(X_train, Y_train)\n",
    "\n",
    "#labels prediction\n",
    "Y_pred = model.predict(X_test)\n",
    "\n",
    "accuracy, f1, cm = calculate_metrics(Y_test, Y_pred)\n",
    "print(f\"accuracy: {accuracy * 100:.2f}%\")\n",
    "print(f\"F1 score: {f1:.2f}\")\n",
    "print(f\"confusion matrix:\\n{cm}\")"
   ]
  },
  {
   "cell_type": "markdown",
   "metadata": {
    "jp-MarkdownHeadingCollapsed": true
   },
   "source": [
    "### Parkinsons"
   ]
  },
  {
   "cell_type": "code",
   "execution_count": 19,
   "metadata": {
    "scrolled": true
   },
   "outputs": [
    {
     "name": "stdout",
     "output_type": "stream",
     "text": [
      "data url:\n",
      " https://archive.ics.uci.edu/static/public/174/data.csv\n",
      "training set size: (136, 22)\n",
      "testing set size: (59, 22)\n"
     ]
    }
   ],
   "source": [
    "X, X_names, y, y_name = load_dataset(id = dataset_ids[\"parkinsons\"])\n",
    "split_size = 0.7\n",
    "X_train, X_test, Y_train, Y_test = preprocessing(X, y, split_size)\n",
    "print(f'training set size: {X_train.shape}')\n",
    "print(f'testing set size: {X_test.shape}')"
   ]
  },
  {
   "cell_type": "code",
   "execution_count": null,
   "metadata": {},
   "outputs": [],
   "source": [
    "print_useful_data(X, X_names, y, y_name)"
   ]
  },
  {
   "cell_type": "code",
   "execution_count": 20,
   "metadata": {},
   "outputs": [
    {
     "name": "stdout",
     "output_type": "stream",
     "text": [
      "accuracy: 86.44%\n",
      "F1 score: 0.86\n",
      "confusion matrix:\n",
      "[[10  5]\n",
      " [ 3 41]]\n"
     ]
    }
   ],
   "source": [
    "#model training\n",
    "model = DecisionTreeClassifier(max_depth=5, criterion=\"gini\", random_state=42)\n",
    "model.fit(X_train, Y_train)\n",
    "\n",
    "#labels prediction\n",
    "Y_pred = model.predict(X_test)\n",
    "\n",
    "accuracy, f1, cm = calculate_metrics(Y_test, Y_pred)\n",
    "print(f\"accuracy: {accuracy * 100:.2f}%\")\n",
    "print(f\"F1 score: {f1:.2f}\")\n",
    "print(f\"confusion matrix:\\n{cm}\")"
   ]
  },
  {
   "cell_type": "markdown",
   "metadata": {
    "jp-MarkdownHeadingCollapsed": true
   },
   "source": [
    "### Page-blocks"
   ]
  },
  {
   "cell_type": "code",
   "execution_count": 21,
   "metadata": {},
   "outputs": [
    {
     "name": "stdout",
     "output_type": "stream",
     "text": [
      "data url:\n",
      " https://archive.ics.uci.edu/static/public/78/data.csv\n",
      "training set size: (3831, 10)\n",
      "testing set size: (1642, 10)\n"
     ]
    }
   ],
   "source": [
    "X, X_names, y, y_name = load_dataset(id = dataset_ids[\"page-blocks\"])\n",
    "split_size = 0.7\n",
    "X_train, X_test, Y_train, Y_test = preprocessing(X, y, split_size)\n",
    "print(f'training set size: {X_train.shape}')\n",
    "print(f'testing set size: {X_test.shape}')"
   ]
  },
  {
   "cell_type": "code",
   "execution_count": null,
   "metadata": {},
   "outputs": [],
   "source": [
    "print_useful_data(X, X_names, y, y_name)"
   ]
  },
  {
   "cell_type": "code",
   "execution_count": 22,
   "metadata": {},
   "outputs": [
    {
     "name": "stdout",
     "output_type": "stream",
     "text": [
      "accuracy: 96.77%\n",
      "F1 score: 0.96\n",
      "confusion matrix:\n",
      "[[1451   10    1    2    2]\n",
      " [   5   99    0    2    0]\n",
      " [   4    0    6    0    0]\n",
      " [   3    1    0   26    1]\n",
      " [  19    0    3    0    7]]\n"
     ]
    }
   ],
   "source": [
    "#model training\n",
    "model = DecisionTreeClassifier(max_depth=5, criterion=\"gini\", random_state=42)\n",
    "model.fit(X_train, Y_train)\n",
    "\n",
    "#labels prediction\n",
    "Y_pred = model.predict(X_test)\n",
    "\n",
    "accuracy, f1, cm = calculate_metrics(Y_test, Y_pred)\n",
    "print(f\"accuracy: {accuracy * 100:.2f}%\")\n",
    "print(f\"F1 score: {f1:.2f}\")\n",
    "print(f\"confusion matrix:\\n{cm}\")"
   ]
  },
  {
   "cell_type": "markdown",
   "metadata": {
    "jp-MarkdownHeadingCollapsed": true
   },
   "source": [
    "### Optical"
   ]
  },
  {
   "cell_type": "code",
   "execution_count": 23,
   "metadata": {},
   "outputs": [
    {
     "name": "stdout",
     "output_type": "stream",
     "text": [
      "data url:\n",
      " https://archive.ics.uci.edu/static/public/80/data.csv\n",
      "training set size: (3933, 64)\n",
      "testing set size: (1687, 64)\n"
     ]
    }
   ],
   "source": [
    "X, X_names, y, y_name = load_dataset(id = dataset_ids[\"optical\"])\n",
    "split_size = 0.7\n",
    "X_train, X_test, Y_train, Y_test = preprocessing(X, y, split_size)\n",
    "\n",
    "num_sample = 6000\n",
    "X_train, X_test = X_train[:num_sample*2,:], X_test[:num_sample,:]\n",
    "Y_train, Y_test = Y_train[:num_sample*2], Y_test[:num_sample]\n",
    "\n",
    "print(f'training set size: {X_train.shape}')\n",
    "print(f'testing set size: {X_test.shape}')"
   ]
  },
  {
   "cell_type": "code",
   "execution_count": null,
   "metadata": {},
   "outputs": [],
   "source": [
    "print_useful_data(X, X_names, y, y_name)"
   ]
  },
  {
   "cell_type": "code",
   "execution_count": 24,
   "metadata": {},
   "outputs": [
    {
     "name": "stdout",
     "output_type": "stream",
     "text": [
      "accuracy: 69.12%\n",
      "F1 score: 0.69\n",
      "confusion matrix:\n",
      "[[156   0   1   1   4   2   0   0   4   2]\n",
      " [  0  34   3   4  31   1   1   0  85  14]\n",
      " [  0   2  43   3   1   0   6   0  95   4]\n",
      " [  0   5   7 116   1   1   0   0  19  24]\n",
      " [  0   5   2   0 140   2   2   4  14  14]\n",
      " [  0   1   3   9   3 125   0   2   2   8]\n",
      " [  0   8   2   0   2   0 154   0   1   1]\n",
      " [  0   0   0   1   8   0   0 150  26   1]\n",
      " [  1   1   2  15   6   0   0   5 116   7]\n",
      " [  1   0   1  11   0   3   0  13  13 132]]\n"
     ]
    }
   ],
   "source": [
    "#model training\n",
    "model = DecisionTreeClassifier(max_depth=5, criterion=\"gini\", random_state=42)\n",
    "model.fit(X_train, Y_train)\n",
    "\n",
    "#labels prediction\n",
    "Y_pred = model.predict(X_test)\n",
    "\n",
    "accuracy, f1, cm = calculate_metrics(Y_test, Y_pred)\n",
    "print(f\"accuracy: {accuracy * 100:.2f}%\")\n",
    "print(f\"F1 score: {f1:.2f}\")\n",
    "print(f\"confusion matrix:\\n{cm}\")"
   ]
  },
  {
   "cell_type": "markdown",
   "metadata": {
    "jp-MarkdownHeadingCollapsed": true
   },
   "source": [
    "### Ionosphere"
   ]
  },
  {
   "cell_type": "code",
   "execution_count": 25,
   "metadata": {},
   "outputs": [
    {
     "name": "stdout",
     "output_type": "stream",
     "text": [
      "data url:\n",
      " https://archive.ics.uci.edu/static/public/52/data.csv\n",
      "training set size: (245, 34)\n",
      "testing set size: (106, 34)\n"
     ]
    }
   ],
   "source": [
    "X, X_names, y, y_name = load_dataset(id = dataset_ids[\"ionosphere\"])\n",
    "split_size = 0.7\n",
    "X_train, X_test, Y_train, Y_test = preprocessing(X, y, split_size)\n",
    "print(f'training set size: {X_train.shape}')\n",
    "print(f'testing set size: {X_test.shape}')"
   ]
  },
  {
   "cell_type": "code",
   "execution_count": null,
   "metadata": {},
   "outputs": [],
   "source": [
    "print_useful_data(X, X_names, y, y_name)"
   ]
  },
  {
   "cell_type": "code",
   "execution_count": 26,
   "metadata": {},
   "outputs": [
    {
     "name": "stdout",
     "output_type": "stream",
     "text": [
      "accuracy: 90.57%\n",
      "F1 score: 0.90\n",
      "confusion matrix:\n",
      "[[31  8]\n",
      " [ 2 65]]\n"
     ]
    }
   ],
   "source": [
    "#model training\n",
    "model = DecisionTreeClassifier(max_depth=5, criterion=\"gini\", random_state=42)\n",
    "model.fit(X_train, Y_train)\n",
    "\n",
    "#labels prediction\n",
    "Y_pred = model.predict(X_test)\n",
    "\n",
    "accuracy, f1, cm = calculate_metrics(Y_test, Y_pred)\n",
    "print(f\"accuracy: {accuracy * 100:.2f}%\")\n",
    "print(f\"F1 score: {f1:.2f}\")\n",
    "print(f\"confusion matrix:\\n{cm}\")"
   ]
  },
  {
   "cell_type": "markdown",
   "metadata": {
    "jp-MarkdownHeadingCollapsed": true
   },
   "source": [
    "### Glass Identification"
   ]
  },
  {
   "cell_type": "code",
   "execution_count": 27,
   "metadata": {},
   "outputs": [
    {
     "name": "stdout",
     "output_type": "stream",
     "text": [
      "data url:\n",
      " https://archive.ics.uci.edu/static/public/42/data.csv\n",
      "training set size: (149, 9)\n",
      "testing set size: (65, 9)\n"
     ]
    }
   ],
   "source": [
    "X, X_names, y, y_name = load_dataset(id = dataset_ids[\"glass\"])\n",
    "split_size = 0.7\n",
    "X_train, X_test, Y_train, Y_test = preprocessing(X, y, split_size)\n",
    "print(f'training set size: {X_train.shape}')\n",
    "print(f'testing set size: {X_test.shape}')"
   ]
  },
  {
   "cell_type": "code",
   "execution_count": null,
   "metadata": {},
   "outputs": [],
   "source": [
    "print_useful_data(X, X_names, y, y_name)"
   ]
  },
  {
   "cell_type": "code",
   "execution_count": 28,
   "metadata": {},
   "outputs": [
    {
     "name": "stdout",
     "output_type": "stream",
     "text": [
      "accuracy: 66.15%\n",
      "F1 score: 0.65\n",
      "confusion matrix:\n",
      "[[17  2  0  0  0  0]\n",
      " [ 9 10  2  2  0  0]\n",
      " [ 2  1  1  0  0  0]\n",
      " [ 0  1  0  3  2  0]\n",
      " [ 0  1  0  0  2  0]\n",
      " [ 0  0  0  0  0 10]]\n"
     ]
    }
   ],
   "source": [
    "#model training\n",
    "model = DecisionTreeClassifier(max_depth=5, criterion=\"gini\", random_state=42)\n",
    "model.fit(X_train, Y_train)\n",
    "\n",
    "#labels prediction\n",
    "Y_pred = model.predict(X_test)\n",
    "\n",
    "accuracy, f1, cm = calculate_metrics(Y_test, Y_pred)\n",
    "print(f\"accuracy: {accuracy * 100:.2f}%\")\n",
    "print(f\"F1 score: {f1:.2f}\")\n",
    "print(f\"confusion matrix:\\n{cm}\")"
   ]
  },
  {
   "cell_type": "markdown",
   "metadata": {
    "jp-MarkdownHeadingCollapsed": true
   },
   "source": [
    "### Letter Recognition"
   ]
  },
  {
   "cell_type": "code",
   "execution_count": 31,
   "metadata": {},
   "outputs": [
    {
     "name": "stdout",
     "output_type": "stream",
     "text": [
      "data url:\n",
      " https://archive.ics.uci.edu/static/public/59/data.csv\n",
      "training set size: (14000, 16)\n",
      "testing set size: (6000, 16)\n"
     ]
    }
   ],
   "source": [
    "X, X_names, y, y_name = load_dataset(id = dataset_ids[\"letter\"])\n",
    "split_size = 0.7\n",
    "X_train, X_test, Y_train, Y_test = preprocessing(X, y, split_size)\n",
    "print(f'training set size: {X_train.shape}')\n",
    "print(f'testing set size: {X_test.shape}')"
   ]
  },
  {
   "cell_type": "code",
   "execution_count": null,
   "metadata": {},
   "outputs": [],
   "source": [
    "print_useful_data(X, X_names, y, y_name)"
   ]
  },
  {
   "cell_type": "code",
   "execution_count": 32,
   "metadata": {},
   "outputs": [
    {
     "name": "stdout",
     "output_type": "stream",
     "text": [
      "accuracy: 37.30%\n",
      "F1 score: 0.33\n",
      "confusion matrix:\n",
      "[[187   0   0   2   0   0   0   1   0   1   0   1   1   0   0   0  31   7\n",
      "    1   0   0   0   0   0   0   0]\n",
      " [  0   0   0 189   0   1   0   0   3   0   0   0   0   0   0   0  27   0\n",
      "    0   0   0   0   0   0   0   9]\n",
      " [  0   0   0   1   1   3   0   0  91  13   0   0   0   0   0   0  85   0\n",
      "    0   4   2   0   0   0   0   1]\n",
      " [  0   0   0 217   0   0   0   0   0   0   0   0   0   2   0   0  12   4\n",
      "    0   0  15   0   0   0   0   0]\n",
      " [  0   0   0   0  64   2   0   0   5   0   0   0   0   0   0   0 163   0\n",
      "    0   0   0   0   0   0   0   4]\n",
      " [  0   0   0  46   0  23   0   0   5   0   0   0   0   2   0  26  15   0\n",
      "    0  49   5  40   0   0   0   0]\n",
      " [  1   0   0  13   0   0   4   0   1   1   0   0   0   0   0   0 184   2\n",
      "    0   0   0   0   0   0   0  24]\n",
      " [  0   0   0  46   0   7   0   0   0   0   0   0   0   0   0   0  96   8\n",
      "    0   0  61   0   0   0   0   0]\n",
      " [  0   0   0  28   0   1   0   0 169   3   0   0   0   0   0   1  12   5\n",
      "    0   0   0   0   0   0   0   2]\n",
      " [  0   0   0  39   0   5   0   0   5 159   0   0   0   0   0   3  15   0\n",
      "    0   0   1   0   0   0   0   1]\n",
      " [  0   0   0   8   0   0   0   0   0   0   0   0   0   0   0   0 141   6\n",
      "    0   0  33   0   0   0   0   0]\n",
      " [  0   0   0   1   0   0   0   0   2  11   0 156   0   0   0   0  54   7\n",
      "    0   0   0   0   0   0   0   0]\n",
      " [  0   0   0  23   0   0   0   0   0   0   0   0 173   0   0   0  39   2\n",
      "    0   0  14   0   1   0   0   0]\n",
      " [  0   0   0  32   0  13   0   0   0   0   0   0   2  20   0   0  10   2\n",
      "    0   0 147   3   2   0   0   0]\n",
      " [  0   0   0  38   0   1   1   0   0   0   0   0   0   0   0   0 158   0\n",
      "    0   0  20   0   0   0   0   0]\n",
      " [  0   0   0  61   0  19   0   0  31   0   0   0   0   0   0 115  12   0\n",
      "    0   9   0   0   1   0   0   0]\n",
      " [  0   0   0  22   0  10   1   0   1   0   0   0   0   0   0   0 209   0\n",
      "    0   0   2   7   1   0   0   0]\n",
      " [  0   0   0 106   0  40   0   0   0   0   0   0   0   0   0   0  72  15\n",
      "    0   0   1   0   0   0   0   0]\n",
      " [  0   0   0  77   0   2   0   0   8   0   0   0   0   0   0   0  62  14\n",
      "    3   0   1   0   0   0   0  68]\n",
      " [  0   0   0  12   0  12   0   0   1   0   0   0   0   0   0   5  34   0\n",
      "    0 159   0   9   0   0   0   0]\n",
      " [  0   0   0   4   0   0   0   0   0   0   0   0   1   0   0   0  57   0\n",
      "    0   4 195   0   0   0   0   0]\n",
      " [  0   0   0  13   0   1   1   0   0   0   0   0   0   2   0   1  14   0\n",
      "    0  12  67 125   1   0   0   0]\n",
      " [  0   0   0   5   0   4   0   0   0   0   0   0   0   1   0   0  23   0\n",
      "    0   0  69   7 104   0   0   0]\n",
      " [  0   0   0  48   0   0   0   0   0   0   0   0   0   0   0   0 186  10\n",
      "    0   1   0   0   0   0   0   0]\n",
      " [  0   0   0  37   0  10   2   0  14   0   0   0   0   1   0   0  21   0\n",
      "    0 100   0  66   0   0   0   0]\n",
      " [  0   0   0  28   0   5   0   0   0   0   0   0   0   0   0   0  34   5\n",
      "    0   0   0   0   0   0   0 141]]\n"
     ]
    }
   ],
   "source": [
    "#model training\n",
    "model = DecisionTreeClassifier(max_depth=5, criterion=\"gini\", random_state=42)\n",
    "model.fit(X_train, Y_train)\n",
    "\n",
    "#labels prediction\n",
    "Y_pred = model.predict(X_test)\n",
    "\n",
    "accuracy, f1, cm = calculate_metrics(Y_test, Y_pred)\n",
    "print(f\"accuracy: {accuracy * 100:.2f}%\")\n",
    "print(f\"F1 score: {f1:.2f}\")\n",
    "print(f\"confusion matrix:\\n{cm}\")"
   ]
  },
  {
   "cell_type": "markdown",
   "metadata": {
    "jp-MarkdownHeadingCollapsed": true
   },
   "source": [
    "### Connectionist Bench (Sonar, Mines vs. Rocks)"
   ]
  },
  {
   "cell_type": "code",
   "execution_count": 33,
   "metadata": {},
   "outputs": [
    {
     "name": "stdout",
     "output_type": "stream",
     "text": [
      "data url:\n",
      " https://archive.ics.uci.edu/static/public/151/data.csv\n",
      "training set size: (145, 60)\n",
      "testing set size: (63, 60)\n"
     ]
    }
   ],
   "source": [
    "X, X_names, y, y_name = load_dataset(id = dataset_ids[\"conn-bench-sonar\"])\n",
    "split_size = 0.7\n",
    "X_train, X_test, Y_train, Y_test = preprocessing(X, y, split_size)\n",
    "print(f'training set size: {X_train.shape}')\n",
    "print(f'testing set size: {X_test.shape}')"
   ]
  },
  {
   "cell_type": "code",
   "execution_count": null,
   "metadata": {},
   "outputs": [],
   "source": [
    "print_useful_data(X, X_names, y, y_name)"
   ]
  },
  {
   "cell_type": "code",
   "execution_count": 34,
   "metadata": {},
   "outputs": [
    {
     "name": "stdout",
     "output_type": "stream",
     "text": [
      "accuracy: 73.02%\n",
      "F1 score: 0.73\n",
      "confusion matrix:\n",
      "[[22 13]\n",
      " [ 4 24]]\n"
     ]
    }
   ],
   "source": [
    "#model training\n",
    "model = DecisionTreeClassifier(max_depth=5, criterion=\"gini\", random_state=42)\n",
    "model.fit(X_train, Y_train)\n",
    "\n",
    "#labels prediction\n",
    "Y_pred = model.predict(X_test)\n",
    "\n",
    "accuracy, f1, cm = calculate_metrics(Y_test, Y_pred)\n",
    "print(f\"accuracy: {accuracy * 100:.2f}%\")\n",
    "print(f\"F1 score: {f1:.2f}\")\n",
    "print(f\"confusion matrix:\\n{cm}\")"
   ]
  },
  {
   "cell_type": "markdown",
   "metadata": {
    "jp-MarkdownHeadingCollapsed": true
   },
   "source": [
    "### Musk (Version 2)"
   ]
  },
  {
   "cell_type": "code",
   "execution_count": 35,
   "metadata": {},
   "outputs": [
    {
     "name": "stdout",
     "output_type": "stream",
     "text": [
      "data url:\n",
      " https://archive.ics.uci.edu/static/public/75/data.csv\n",
      "training set size: (4618, 166)\n",
      "testing set size: (1980, 166)\n"
     ]
    }
   ],
   "source": [
    "X, X_names, y, y_name = load_dataset(id = dataset_ids[\"musk2\"])\n",
    "split_size = 0.7\n",
    "X_train, X_test, Y_train, Y_test = preprocessing(X, y, split_size)\n",
    "print(f'training set size: {X_train.shape}')\n",
    "print(f'testing set size: {X_test.shape}')"
   ]
  },
  {
   "cell_type": "code",
   "execution_count": null,
   "metadata": {},
   "outputs": [],
   "source": [
    "print_useful_data(X, X_names, y, y_name)"
   ]
  },
  {
   "cell_type": "code",
   "execution_count": 36,
   "metadata": {},
   "outputs": [
    {
     "name": "stdout",
     "output_type": "stream",
     "text": [
      "accuracy: 93.94%\n",
      "F1 score: 0.94\n",
      "confusion matrix:\n",
      "[[1646   27]\n",
      " [  93  214]]\n"
     ]
    }
   ],
   "source": [
    "#model training\n",
    "model = DecisionTreeClassifier(max_depth=5, criterion=\"gini\", random_state=42)\n",
    "model.fit(X_train, Y_train)\n",
    "\n",
    "#labels prediction\n",
    "Y_pred = model.predict(X_test)\n",
    "\n",
    "accuracy, f1, cm = calculate_metrics(Y_test, Y_pred)\n",
    "print(f\"accuracy: {accuracy * 100:.2f}%\")\n",
    "print(f\"F1 score: {f1:.2f}\")\n",
    "print(f\"confusion matrix:\\n{cm}\")"
   ]
  },
  {
   "cell_type": "markdown",
   "metadata": {
    "jp-MarkdownHeadingCollapsed": true
   },
   "source": [
    "### Breast Cancer Wisconsin (Diagnostic)"
   ]
  },
  {
   "cell_type": "code",
   "execution_count": 37,
   "metadata": {},
   "outputs": [
    {
     "name": "stdout",
     "output_type": "stream",
     "text": [
      "data url:\n",
      " https://archive.ics.uci.edu/static/public/17/data.csv\n",
      "training set size: (398, 30)\n",
      "testing set size: (171, 30)\n"
     ]
    }
   ],
   "source": [
    "X, X_names, y, y_name = load_dataset(id = dataset_ids[\"bc-wisc-diag\"])\n",
    "split_size = 0.7\n",
    "X_train, X_test, Y_train, Y_test = preprocessing(X, y, split_size)\n",
    "print(f'training set size: {X_train.shape}')\n",
    "print(f'testing set size: {X_test.shape}')"
   ]
  },
  {
   "cell_type": "code",
   "execution_count": null,
   "metadata": {},
   "outputs": [],
   "source": [
    "print_useful_data(X, X_names, y, y_name)"
   ]
  },
  {
   "cell_type": "code",
   "execution_count": 38,
   "metadata": {},
   "outputs": [
    {
     "name": "stdout",
     "output_type": "stream",
     "text": [
      "accuracy: 95.32%\n",
      "F1 score: 0.95\n",
      "confusion matrix:\n",
      "[[104   4]\n",
      " [  4  59]]\n"
     ]
    }
   ],
   "source": [
    "#model training\n",
    "model = DecisionTreeClassifier(max_depth=5, criterion=\"gini\", random_state=42)\n",
    "model.fit(X_train, Y_train)\n",
    "\n",
    "#labels prediction\n",
    "Y_pred = model.predict(X_test)\n",
    "\n",
    "accuracy, f1, cm = calculate_metrics(Y_test, Y_pred)\n",
    "print(f\"accuracy: {accuracy * 100:.2f}%\")\n",
    "print(f\"F1 score: {f1:.2f}\")\n",
    "print(f\"confusion matrix:\\n{cm}\")"
   ]
  },
  {
   "cell_type": "markdown",
   "metadata": {
    "jp-MarkdownHeadingCollapsed": true
   },
   "source": [
    "### Balance-scale"
   ]
  },
  {
   "cell_type": "code",
   "execution_count": 39,
   "metadata": {},
   "outputs": [
    {
     "name": "stdout",
     "output_type": "stream",
     "text": [
      "data url:\n",
      " https://archive.ics.uci.edu/static/public/12/data.csv\n",
      "training set size: (437, 4)\n",
      "testing set size: (188, 4)\n"
     ]
    }
   ],
   "source": [
    "X, X_names, y, y_name = load_dataset(id = dataset_ids[\"balance-scale\"])\n",
    "split_size = 0.7\n",
    "X_train, X_test, Y_train, Y_test = preprocessing(X, y, split_size)\n",
    "print(f'training set size: {X_train.shape}')\n",
    "print(f'testing set size: {X_test.shape}')"
   ]
  },
  {
   "cell_type": "code",
   "execution_count": null,
   "metadata": {},
   "outputs": [],
   "source": [
    "print_useful_data(X, X_names, y, y_name)"
   ]
  },
  {
   "cell_type": "code",
   "execution_count": 40,
   "metadata": {},
   "outputs": [
    {
     "name": "stdout",
     "output_type": "stream",
     "text": [
      "accuracy: 72.34%\n",
      "F1 score: 0.71\n",
      "confusion matrix:\n",
      "[[ 1 13  4]\n",
      " [ 3 73  4]\n",
      " [ 7 21 62]]\n"
     ]
    }
   ],
   "source": [
    "#model training\n",
    "model = DecisionTreeClassifier(max_depth=5, criterion=\"gini\", random_state=42)\n",
    "model.fit(X_train, Y_train)\n",
    "\n",
    "#labels prediction\n",
    "Y_pred = model.predict(X_test)\n",
    "\n",
    "accuracy, f1, cm = calculate_metrics(Y_test, Y_pred)\n",
    "print(f\"accuracy: {accuracy * 100:.2f}%\")\n",
    "print(f\"F1 score: {f1:.2f}\")\n",
    "print(f\"confusion matrix:\\n{cm}\")"
   ]
  },
  {
   "cell_type": "markdown",
   "metadata": {
    "jp-MarkdownHeadingCollapsed": true
   },
   "source": [
    "### Contraception"
   ]
  },
  {
   "cell_type": "code",
   "execution_count": 41,
   "metadata": {},
   "outputs": [
    {
     "name": "stdout",
     "output_type": "stream",
     "text": [
      "data url:\n",
      " https://archive.ics.uci.edu/static/public/30/data.csv\n",
      "training set size: (1031, 9)\n",
      "testing set size: (442, 9)\n"
     ]
    }
   ],
   "source": [
    "X, X_names, y, y_name = load_dataset(id = dataset_ids[\"contraception\"])\n",
    "split_size = 0.7\n",
    "X_train, X_test, Y_train, Y_test = preprocessing(X, y, split_size)\n",
    "print(f'training set size: {X_train.shape}')\n",
    "print(f'testing set size: {X_test.shape}')"
   ]
  },
  {
   "cell_type": "code",
   "execution_count": null,
   "metadata": {},
   "outputs": [],
   "source": [
    "print_useful_data(X, X_names, y, y_name)"
   ]
  },
  {
   "cell_type": "code",
   "execution_count": 42,
   "metadata": {},
   "outputs": [
    {
     "name": "stdout",
     "output_type": "stream",
     "text": [
      "accuracy: 56.11%\n",
      "F1 score: 0.56\n",
      "confusion matrix:\n",
      "[[112  30  52]\n",
      " [ 21  42  38]\n",
      " [ 26  27  94]]\n"
     ]
    }
   ],
   "source": [
    "#model training\n",
    "model = DecisionTreeClassifier(max_depth=5, criterion=\"gini\", random_state=42)\n",
    "model.fit(X_train, Y_train)\n",
    "\n",
    "#labels prediction\n",
    "Y_pred = model.predict(X_test)\n",
    "\n",
    "accuracy, f1, cm = calculate_metrics(Y_test, Y_pred)\n",
    "print(f\"accuracy: {accuracy * 100:.2f}%\")\n",
    "print(f\"F1 score: {f1:.2f}\")\n",
    "print(f\"confusion matrix:\\n{cm}\")"
   ]
  },
  {
   "cell_type": "markdown",
   "metadata": {
    "jp-MarkdownHeadingCollapsed": true
   },
   "source": [
    "### Fertility"
   ]
  },
  {
   "cell_type": "code",
   "execution_count": 44,
   "metadata": {},
   "outputs": [
    {
     "name": "stdout",
     "output_type": "stream",
     "text": [
      "data url:\n",
      " https://archive.ics.uci.edu/static/public/244/data.csv\n",
      "training set size: (70, 9)\n",
      "testing set size: (30, 9)\n"
     ]
    }
   ],
   "source": [
    "X, X_names, y, y_name = load_dataset(id = dataset_ids[\"fertility\"])\n",
    "split_size = 0.7\n",
    "X_train, X_test, Y_train, Y_test = preprocessing(X, y, split_size)\n",
    "print(f'training set size: {X_train.shape}')\n",
    "print(f'testing set size: {X_test.shape}')"
   ]
  },
  {
   "cell_type": "code",
   "execution_count": null,
   "metadata": {},
   "outputs": [],
   "source": [
    "print_useful_data(X, X_names, y, y_name)"
   ]
  },
  {
   "cell_type": "code",
   "execution_count": 45,
   "metadata": {},
   "outputs": [
    {
     "name": "stdout",
     "output_type": "stream",
     "text": [
      "accuracy: 86.67%\n",
      "F1 score: 0.87\n",
      "confusion matrix:\n",
      "[[25  2]\n",
      " [ 2  1]]\n"
     ]
    }
   ],
   "source": [
    "#model training\n",
    "model = DecisionTreeClassifier(max_depth=5, criterion=\"gini\", random_state=42)\n",
    "model.fit(X_train, Y_train)\n",
    "\n",
    "#labels prediction\n",
    "Y_pred = model.predict(X_test)\n",
    "\n",
    "accuracy, f1, cm = calculate_metrics(Y_test, Y_pred)\n",
    "print(f\"accuracy: {accuracy * 100:.2f}%\")\n",
    "print(f\"F1 score: {f1:.2f}\")\n",
    "print(f\"confusion matrix:\\n{cm}\")"
   ]
  },
  {
   "cell_type": "markdown",
   "metadata": {
    "jp-MarkdownHeadingCollapsed": true
   },
   "source": [
    "### Waveform (Version 1)"
   ]
  },
  {
   "cell_type": "code",
   "execution_count": 46,
   "metadata": {},
   "outputs": [
    {
     "name": "stdout",
     "output_type": "stream",
     "text": [
      "data url:\n",
      " https://archive.ics.uci.edu/static/public/107/data.csv\n",
      "training set size: (3500, 21)\n",
      "testing set size: (1500, 21)\n"
     ]
    }
   ],
   "source": [
    "X, X_names, y, y_name = load_dataset(id = dataset_ids[\"waveform\"])\n",
    "split_size = 0.7\n",
    "X_train, X_test, Y_train, Y_test = preprocessing(X, y, split_size)\n",
    "print(f'training set size: {X_train.shape}')\n",
    "print(f'testing set size: {X_test.shape}')"
   ]
  },
  {
   "cell_type": "code",
   "execution_count": null,
   "metadata": {},
   "outputs": [],
   "source": [
    "print_useful_data(X, X_names, y, y_name)"
   ]
  },
  {
   "cell_type": "code",
   "execution_count": 47,
   "metadata": {},
   "outputs": [
    {
     "name": "stdout",
     "output_type": "stream",
     "text": [
      "accuracy: 77.00%\n",
      "F1 score: 0.77\n",
      "confusion matrix:\n",
      "[[359  61  66]\n",
      " [ 70 396  53]\n",
      " [ 50  45 400]]\n"
     ]
    }
   ],
   "source": [
    "#model training\n",
    "model = DecisionTreeClassifier(max_depth=5, criterion=\"gini\", random_state=42)\n",
    "model.fit(X_train, Y_train)\n",
    "\n",
    "#labels prediction\n",
    "Y_pred = model.predict(X_test)\n",
    "\n",
    "accuracy, f1, cm = calculate_metrics(Y_test, Y_pred)\n",
    "print(f\"accuracy: {accuracy * 100:.2f}%\")\n",
    "print(f\"F1 score: {f1:.2f}\")\n",
    "print(f\"confusion matrix:\\n{cm}\")"
   ]
  },
  {
   "cell_type": "markdown",
   "metadata": {
    "jp-MarkdownHeadingCollapsed": true
   },
   "source": [
    "### Image Segmentation"
   ]
  },
  {
   "cell_type": "code",
   "execution_count": 48,
   "metadata": {},
   "outputs": [
    {
     "name": "stdout",
     "output_type": "stream",
     "text": [
      "data url:\n",
      " https://archive.ics.uci.edu/static/public/50/data.csv\n",
      "training set size: (147, 19)\n",
      "testing set size: (63, 19)\n"
     ]
    }
   ],
   "source": [
    "X, X_names, y, y_name = load_dataset(id = dataset_ids[\"image-segmentation\"])\n",
    "split_size = 0.7\n",
    "X_train, X_test, Y_train, Y_test = preprocessing(X, y, split_size)\n",
    "print(f'training set size: {X_train.shape}')\n",
    "print(f'testing set size: {X_test.shape}')"
   ]
  },
  {
   "cell_type": "code",
   "execution_count": null,
   "metadata": {},
   "outputs": [],
   "source": [
    "print_useful_data(X, X_names, y, y_name)"
   ]
  },
  {
   "cell_type": "code",
   "execution_count": 49,
   "metadata": {},
   "outputs": [
    {
     "name": "stdout",
     "output_type": "stream",
     "text": [
      "accuracy: 77.78%\n",
      "F1 score: 0.76\n",
      "confusion matrix:\n",
      "[[ 8  0  0  0  0  0  1]\n",
      " [ 0  5  1  2  1  0  1]\n",
      " [ 1  0 10  0  0  0  0]\n",
      " [ 0  0  0  9  0  0  1]\n",
      " [ 0  0  0  0  9  0  0]\n",
      " [ 0  0  0  0  0  5  0]\n",
      " [ 1  0  5  0  0  0  3]]\n"
     ]
    }
   ],
   "source": [
    "#model training\n",
    "model = DecisionTreeClassifier(max_depth=5, criterion=\"gini\", random_state=42)\n",
    "model.fit(X_train, Y_train)\n",
    "\n",
    "#labels prediction\n",
    "Y_pred = model.predict(X_test)\n",
    "\n",
    "accuracy, f1, cm = calculate_metrics(Y_test, Y_pred)\n",
    "print(f\"accuracy: {accuracy * 100:.2f}%\")\n",
    "print(f\"F1 score: {f1:.2f}\")\n",
    "print(f\"confusion matrix:\\n{cm}\")"
   ]
  },
  {
   "cell_type": "markdown",
   "metadata": {
    "jp-MarkdownHeadingCollapsed": true
   },
   "source": [
    "### Blood Transfusion Service"
   ]
  },
  {
   "cell_type": "code",
   "execution_count": 50,
   "metadata": {},
   "outputs": [
    {
     "name": "stdout",
     "output_type": "stream",
     "text": [
      "data url:\n",
      " https://archive.ics.uci.edu/static/public/176/data.csv\n",
      "training set size: (523, 4)\n",
      "testing set size: (225, 4)\n"
     ]
    }
   ],
   "source": [
    "X, X_names, y, y_name = load_dataset(id = dataset_ids[\"blood\"])\n",
    "split_size = 0.7\n",
    "X_train, X_test, Y_train, Y_test = preprocessing(X, y, split_size)\n",
    "print(f'training set size: {X_train.shape}')\n",
    "print(f'testing set size: {X_test.shape}')"
   ]
  },
  {
   "cell_type": "code",
   "execution_count": null,
   "metadata": {},
   "outputs": [],
   "source": [
    "print_useful_data(X, X_names, y, y_name)"
   ]
  },
  {
   "cell_type": "code",
   "execution_count": 51,
   "metadata": {},
   "outputs": [
    {
     "name": "stdout",
     "output_type": "stream",
     "text": [
      "accuracy: 75.11%\n",
      "F1 score: 0.73\n",
      "confusion matrix:\n",
      "[[149  16]\n",
      " [ 40  20]]\n"
     ]
    }
   ],
   "source": [
    "#model training\n",
    "model = DecisionTreeClassifier(max_depth=5, criterion=\"gini\", random_state=42)\n",
    "model.fit(X_train, Y_train)\n",
    "\n",
    "#labels prediction\n",
    "Y_pred = model.predict(X_test)\n",
    "\n",
    "accuracy, f1, cm = calculate_metrics(Y_test, Y_pred)\n",
    "print(f\"accuracy: {accuracy * 100:.2f}%\")\n",
    "print(f\"F1 score: {f1:.2f}\")\n",
    "print(f\"confusion matrix:\\n{cm}\")"
   ]
  },
  {
   "cell_type": "markdown",
   "metadata": {
    "jp-MarkdownHeadingCollapsed": true
   },
   "source": [
    "### SPECT Heart"
   ]
  },
  {
   "cell_type": "code",
   "execution_count": 52,
   "metadata": {},
   "outputs": [
    {
     "name": "stdout",
     "output_type": "stream",
     "text": [
      "data url:\n",
      " https://archive.ics.uci.edu/static/public/95/data.csv\n",
      "training set size: (186, 22)\n",
      "testing set size: (81, 22)\n"
     ]
    }
   ],
   "source": [
    "X, X_names, y, y_name = load_dataset(id = dataset_ids[\"spect\"])\n",
    "split_size = 0.7\n",
    "X_train, X_test, Y_train, Y_test = preprocessing(X, y, split_size)\n",
    "print(f'training set size: {X_train.shape}')\n",
    "print(f'testing set size: {X_test.shape}')"
   ]
  },
  {
   "cell_type": "code",
   "execution_count": null,
   "metadata": {},
   "outputs": [],
   "source": [
    "print_useful_data(X, X_names, y, y_name)"
   ]
  },
  {
   "cell_type": "code",
   "execution_count": 53,
   "metadata": {},
   "outputs": [
    {
     "name": "stdout",
     "output_type": "stream",
     "text": [
      "accuracy: 60.49%\n",
      "F1 score: 0.64\n",
      "confusion matrix:\n",
      "[[ 4 11]\n",
      " [21 45]]\n"
     ]
    }
   ],
   "source": [
    "#model training\n",
    "model = DecisionTreeClassifier(max_depth=5, criterion=\"gini\", random_state=42)\n",
    "model.fit(X_train, Y_train)\n",
    "\n",
    "#labels prediction\n",
    "Y_pred = model.predict(X_test)\n",
    "\n",
    "accuracy, f1, cm = calculate_metrics(Y_test, Y_pred)\n",
    "print(f\"accuracy: {accuracy * 100:.2f}%\")\n",
    "print(f\"F1 score: {f1:.2f}\")\n",
    "print(f\"confusion matrix:\\n{cm}\")"
   ]
  },
  {
   "cell_type": "markdown",
   "metadata": {
    "jp-MarkdownHeadingCollapsed": true
   },
   "source": [
    "### Statlog (Landsat Satellite)"
   ]
  },
  {
   "cell_type": "code",
   "execution_count": 54,
   "metadata": {},
   "outputs": [
    {
     "name": "stdout",
     "output_type": "stream",
     "text": [
      "data url:\n",
      " https://archive.ics.uci.edu/static/public/146/data.csv\n",
      "training set size: (4504, 36)\n",
      "testing set size: (1931, 36)\n"
     ]
    }
   ],
   "source": [
    "X, X_names, y, y_name = load_dataset(id = dataset_ids[\"landsat\"])\n",
    "split_size = 0.7\n",
    "X_train, X_test, Y_train, Y_test = preprocessing(X, y, split_size)\n",
    "print(f'training set size: {X_train.shape}')\n",
    "print(f'testing set size: {X_test.shape}')"
   ]
  },
  {
   "cell_type": "code",
   "execution_count": null,
   "metadata": {},
   "outputs": [],
   "source": [
    "print_useful_data(X, X_names, y, y_name)"
   ]
  },
  {
   "cell_type": "code",
   "execution_count": 55,
   "metadata": {},
   "outputs": [
    {
     "name": "stdout",
     "output_type": "stream",
     "text": [
      "accuracy: 80.74%\n",
      "F1 score: 0.80\n",
      "confusion matrix:\n",
      "[[435   0   3   2   8   2]\n",
      " [  4 165   0   0  13   4]\n",
      " [ 11   0 345  55   2   3]\n",
      " [  6   0  31  56   2 106]\n",
      " [ 24   3   0   1 159  32]\n",
      " [  4   0   3  38  15 399]]\n"
     ]
    }
   ],
   "source": [
    "#model training\n",
    "model = DecisionTreeClassifier(max_depth=5, criterion=\"gini\", random_state=42)\n",
    "model.fit(X_train, Y_train)\n",
    "\n",
    "#labels prediction\n",
    "Y_pred = model.predict(X_test)\n",
    "\n",
    "accuracy, f1, cm = calculate_metrics(Y_test, Y_pred)\n",
    "print(f\"accuracy: {accuracy * 100:.2f}%\")\n",
    "print(f\"F1 score: {f1:.2f}\")\n",
    "print(f\"confusion matrix:\\n{cm}\")"
   ]
  },
  {
   "cell_type": "markdown",
   "metadata": {
    "jp-MarkdownHeadingCollapsed": true
   },
   "source": [
    "### Yeast"
   ]
  },
  {
   "cell_type": "code",
   "execution_count": 56,
   "metadata": {},
   "outputs": [
    {
     "name": "stdout",
     "output_type": "stream",
     "text": [
      "data url:\n",
      " https://archive.ics.uci.edu/static/public/110/data.csv\n",
      "training set size: (1038, 8)\n",
      "testing set size: (446, 8)\n"
     ]
    }
   ],
   "source": [
    "X, X_names, y, y_name = load_dataset(id = dataset_ids[\"yeast\"])\n",
    "split_size = 0.7\n",
    "X_train, X_test, Y_train, Y_test = preprocessing(X, y, split_size)\n",
    "print(f'training set size: {X_train.shape}')\n",
    "print(f'testing set size: {X_test.shape}')"
   ]
  },
  {
   "cell_type": "code",
   "execution_count": null,
   "metadata": {},
   "outputs": [],
   "source": [
    "print_useful_data(X, X_names, y, y_name)"
   ]
  },
  {
   "cell_type": "code",
   "execution_count": 57,
   "metadata": {},
   "outputs": [
    {
     "name": "stdout",
     "output_type": "stream",
     "text": [
      "accuracy: 56.05%\n",
      "F1 score: 0.54\n",
      "confusion matrix:\n",
      "[[107   0   0   2   0   3   4  29   0   0]\n",
      " [  0   0   0   0   0   0   0   0   0   0]\n",
      " [  4   0   4   2   0   0   0   0   0   0]\n",
      " [  0   0   2  10   3   0   0   0   0   0]\n",
      " [  2   1   0   0   6   1   1   0   0   0]\n",
      " [  2   0   0   0   1  44   1   3   0   0]\n",
      " [ 32   0   0   1   1   4  32   4   0   0]\n",
      " [ 62   0   1   0   0   9   7  47   0   0]\n",
      " [  2   0   0   0   0   1   1   0   0   0]\n",
      " [  5   1   0   1   0   2   1   0   0   0]]\n"
     ]
    }
   ],
   "source": [
    "#model training\n",
    "model = DecisionTreeClassifier(max_depth=5, criterion=\"gini\", random_state=42)\n",
    "model.fit(X_train, Y_train)\n",
    "\n",
    "#labels prediction\n",
    "Y_pred = model.predict(X_test)\n",
    "\n",
    "accuracy, f1, cm = calculate_metrics(Y_test, Y_pred)\n",
    "print(f\"accuracy: {accuracy * 100:.2f}%\")\n",
    "print(f\"F1 score: {f1:.2f}\")\n",
    "print(f\"confusion matrix:\\n{cm}\")"
   ]
  },
  {
   "cell_type": "markdown",
   "metadata": {
    "jp-MarkdownHeadingCollapsed": true
   },
   "source": [
    "### Monk"
   ]
  },
  {
   "cell_type": "code",
   "execution_count": 58,
   "metadata": {},
   "outputs": [
    {
     "name": "stdout",
     "output_type": "stream",
     "text": [
      "data url:\n",
      " https://archive.ics.uci.edu/static/public/70/data.csv\n",
      "training set size: (302, 6)\n",
      "testing set size: (130, 6)\n"
     ]
    }
   ],
   "source": [
    "X, X_names, y, y_name = load_dataset(id = dataset_ids[\"monk\"])\n",
    "split_size = 0.7\n",
    "X_train, X_test, Y_train, Y_test = preprocessing(X, y, split_size)\n",
    "print(f'training set size: {X_train.shape}')\n",
    "print(f'testing set size: {X_test.shape}')"
   ]
  },
  {
   "cell_type": "code",
   "execution_count": null,
   "metadata": {},
   "outputs": [],
   "source": [
    "print_useful_data(X, X_names, y, y_name)"
   ]
  },
  {
   "cell_type": "code",
   "execution_count": 59,
   "metadata": {},
   "outputs": [
    {
     "name": "stdout",
     "output_type": "stream",
     "text": [
      "accuracy: 80.00%\n",
      "F1 score: 0.80\n",
      "confusion matrix:\n",
      "[[48 13]\n",
      " [13 56]]\n"
     ]
    }
   ],
   "source": [
    "#model training\n",
    "model = DecisionTreeClassifier(max_depth=5, criterion=\"gini\", random_state=42)\n",
    "model.fit(X_train, Y_train)\n",
    "\n",
    "#labels prediction\n",
    "Y_pred = model.predict(X_test)\n",
    "\n",
    "accuracy, f1, cm = calculate_metrics(Y_test, Y_pred)\n",
    "print(f\"accuracy: {accuracy * 100:.2f}%\")\n",
    "print(f\"F1 score: {f1:.2f}\")\n",
    "print(f\"confusion matrix:\\n{cm}\")"
   ]
  },
  {
   "cell_type": "markdown",
   "metadata": {
    "jp-MarkdownHeadingCollapsed": true
   },
   "source": [
    "### Ecoli"
   ]
  },
  {
   "cell_type": "code",
   "execution_count": 60,
   "metadata": {},
   "outputs": [
    {
     "name": "stdout",
     "output_type": "stream",
     "text": [
      "data url:\n",
      " https://archive.ics.uci.edu/static/public/39/data.csv\n",
      "training set size: (235, 7)\n",
      "testing set size: (101, 7)\n"
     ]
    }
   ],
   "source": [
    "X, X_names, y, y_name = load_dataset(id = dataset_ids[\"ecoli\"])\n",
    "split_size = 0.7\n",
    "X_train, X_test, Y_train, Y_test = preprocessing(X, y, split_size)\n",
    "print(f'training set size: {X_train.shape}')\n",
    "print(f'testing set size: {X_test.shape}')"
   ]
  },
  {
   "cell_type": "code",
   "execution_count": null,
   "metadata": {},
   "outputs": [],
   "source": [
    "print_useful_data(X, X_names, y, y_name)"
   ]
  },
  {
   "cell_type": "code",
   "execution_count": 61,
   "metadata": {},
   "outputs": [
    {
     "name": "stdout",
     "output_type": "stream",
     "text": [
      "accuracy: 80.20%\n",
      "F1 score: 0.80\n",
      "confusion matrix:\n",
      "[[44  0  0  0  0  0  2]\n",
      " [ 2 13  0  5  0  0  0]\n",
      " [ 0  0  0  0  0  0  1]\n",
      " [ 0  4  0  7  0  0  0]\n",
      " [ 0  0  0  0  6  1  0]\n",
      " [ 0  0  0  0  0  1  0]\n",
      " [ 2  2  0  0  1  0 10]]\n"
     ]
    }
   ],
   "source": [
    "#model training\n",
    "model = DecisionTreeClassifier(max_depth=5, criterion=\"gini\", random_state=42)\n",
    "model.fit(X_train, Y_train)\n",
    "\n",
    "#labels prediction\n",
    "Y_pred = model.predict(X_test)\n",
    "\n",
    "accuracy, f1, cm = calculate_metrics(Y_test, Y_pred)\n",
    "print(f\"accuracy: {accuracy * 100:.2f}%\")\n",
    "print(f\"F1 score: {f1:.2f}\")\n",
    "print(f\"confusion matrix:\\n{cm}\")"
   ]
  },
  {
   "cell_type": "markdown",
   "metadata": {
    "jp-MarkdownHeadingCollapsed": true
   },
   "source": [
    "### Iris"
   ]
  },
  {
   "cell_type": "code",
   "execution_count": 62,
   "metadata": {},
   "outputs": [
    {
     "name": "stdout",
     "output_type": "stream",
     "text": [
      "data url:\n",
      " https://archive.ics.uci.edu/static/public/53/data.csv\n",
      "training set size: (105, 4)\n",
      "testing set size: (45, 4)\n"
     ]
    }
   ],
   "source": [
    "X, X_names, y, y_name = load_dataset(id = dataset_ids[\"iris\"])\n",
    "split_size = 0.7\n",
    "X_train, X_test, Y_train, Y_test = preprocessing(X, y, split_size)\n",
    "print(f'training set size: {X_train.shape}')\n",
    "print(f'testing set size: {X_test.shape}')"
   ]
  },
  {
   "cell_type": "code",
   "execution_count": null,
   "metadata": {},
   "outputs": [],
   "source": [
    "print_useful_data(X, X_names, y, y_name)"
   ]
  },
  {
   "cell_type": "code",
   "execution_count": 63,
   "metadata": {},
   "outputs": [
    {
     "name": "stdout",
     "output_type": "stream",
     "text": [
      "accuracy: 95.56%\n",
      "F1 score: 0.96\n",
      "confusion matrix:\n",
      "[[19  0  0]\n",
      " [ 0 11  2]\n",
      " [ 0  0 13]]\n"
     ]
    }
   ],
   "source": [
    "#model training\n",
    "model = DecisionTreeClassifier(max_depth=5, criterion=\"gini\", random_state=42)\n",
    "model.fit(X_train, Y_train)\n",
    "\n",
    "#labels prediction\n",
    "Y_pred = model.predict(X_test)\n",
    "\n",
    "accuracy, f1, cm = calculate_metrics(Y_test, Y_pred)\n",
    "print(f\"accuracy: {accuracy * 100:.2f}%\")\n",
    "print(f\"F1 score: {f1:.2f}\")\n",
    "print(f\"confusion matrix:\\n{cm}\")"
   ]
  },
  {
   "cell_type": "markdown",
   "metadata": {
    "jp-MarkdownHeadingCollapsed": true
   },
   "source": [
    "### Zoo"
   ]
  },
  {
   "cell_type": "code",
   "execution_count": 64,
   "metadata": {},
   "outputs": [
    {
     "name": "stdout",
     "output_type": "stream",
     "text": [
      "data url:\n",
      " https://archive.ics.uci.edu/static/public/111/data.csv\n",
      "training set size: (70, 16)\n",
      "testing set size: (31, 16)\n"
     ]
    }
   ],
   "source": [
    "X, X_names, y, y_name = load_dataset(id = dataset_ids[\"zoo\"])\n",
    "split_size = 0.7\n",
    "X_train, X_test, Y_train, Y_test = preprocessing(X, y, split_size)\n",
    "print(f'training set size: {X_train.shape}')\n",
    "print(f'testing set size: {X_test.shape}')"
   ]
  },
  {
   "cell_type": "code",
   "execution_count": null,
   "metadata": {},
   "outputs": [],
   "source": [
    "print_useful_data(X, X_names, y, y_name)"
   ]
  },
  {
   "cell_type": "code",
   "execution_count": 65,
   "metadata": {},
   "outputs": [
    {
     "name": "stdout",
     "output_type": "stream",
     "text": [
      "accuracy: 93.55%\n",
      "F1 score: 0.92\n",
      "confusion matrix:\n",
      "[[15  0  0  0  0  0  0]\n",
      " [ 0  3  0  0  0  0  0]\n",
      " [ 0  0  0  0  1  0  0]\n",
      " [ 0  0  0  2  0  0  0]\n",
      " [ 0  0  0  0  2  0  0]\n",
      " [ 0  0  0  0  0  4  1]\n",
      " [ 0  0  0  0  0  0  3]]\n"
     ]
    }
   ],
   "source": [
    "#model training\n",
    "model = DecisionTreeClassifier(max_depth=5, criterion=\"gini\", random_state=42)\n",
    "model.fit(X_train, Y_train)\n",
    "\n",
    "#labels prediction\n",
    "Y_pred = model.predict(X_test)\n",
    "\n",
    "accuracy, f1, cm = calculate_metrics(Y_test, Y_pred)\n",
    "print(f\"accuracy: {accuracy * 100:.2f}%\")\n",
    "print(f\"F1 score: {f1:.2f}\")\n",
    "print(f\"confusion matrix:\\n{cm}\")"
   ]
  }
 ],
 "metadata": {
  "kernelspec": {
   "display_name": "Python (myenv)",
   "language": "python",
   "name": "myenv"
  },
  "language_info": {
   "codemirror_mode": {
    "name": "ipython",
    "version": 3
   },
   "file_extension": ".py",
   "mimetype": "text/x-python",
   "name": "python",
   "nbconvert_exporter": "python",
   "pygments_lexer": "ipython3",
   "version": "3.10.13"
  }
 },
 "nbformat": 4,
 "nbformat_minor": 4
}
